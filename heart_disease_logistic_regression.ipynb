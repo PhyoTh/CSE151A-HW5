{
 "cells": [
  {
   "cell_type": "markdown",
   "id": "c7be8bce",
   "metadata": {},
   "source": [
    "# Binary Logistic Regression for Heart Disease Prediction\n",
    "\n",
    "This notebook demonstrates how to build and evaluate a binary logistic regression model using the heart disease dataset."
   ]
  },
  {
   "cell_type": "markdown",
   "id": "d2b79485",
   "metadata": {},
   "source": [
    "## 1. Load and Explore the Dataset"
   ]
  },
  {
   "cell_type": "code",
   "execution_count": 85,
   "id": "640293dd",
   "metadata": {},
   "outputs": [
    {
     "name": "stdout",
     "output_type": "stream",
     "text": [
      "<class 'pandas.core.frame.DataFrame'>\n",
      "RangeIndex: 303 entries, 0 to 302\n",
      "Data columns (total 14 columns):\n",
      " #   Column    Non-Null Count  Dtype  \n",
      "---  ------    --------------  -----  \n",
      " 0   age       303 non-null    int64  \n",
      " 1   sex       303 non-null    int64  \n",
      " 2   cp        303 non-null    int64  \n",
      " 3   trestbps  303 non-null    int64  \n",
      " 4   chol      303 non-null    int64  \n",
      " 5   fbs       303 non-null    int64  \n",
      " 6   restecg   303 non-null    int64  \n",
      " 7   thalach   303 non-null    int64  \n",
      " 8   exang     303 non-null    int64  \n",
      " 9   oldpeak   303 non-null    float64\n",
      " 10  slope     303 non-null    int64  \n",
      " 11  ca        303 non-null    int64  \n",
      " 12  thal      303 non-null    int64  \n",
      " 13  target    303 non-null    int64  \n",
      "dtypes: float64(1), int64(13)\n",
      "memory usage: 33.3 KB\n",
      "Percentage of positive cases: 54.46%\n"
     ]
    }
   ],
   "source": [
    "# Import necessary libraries\n",
    "import numpy as np\n",
    "import pandas as pd\n",
    "import matplotlib.pyplot as plt\n",
    "import seaborn as sns\n",
    "from sklearn.model_selection import train_test_split, cross_val_score\n",
    "from sklearn.linear_model import LogisticRegression\n",
    "from sklearn.metrics import accuracy_score, classification_report, confusion_matrix\n",
    "import warnings\n",
    "warnings.filterwarnings('ignore')\n",
    "\n",
    "# Set random seed for reproducibility\n",
    "np.random.seed(42)\n",
    "\n",
    "heart_df = pd.read_csv('heart.csv')\n",
    "heart_df.info()\n",
    "print(f\"Percentage of positive cases: {heart_df['target'].mean()*100:.2f}%\")"
   ]
  },
  {
   "cell_type": "markdown",
   "id": "0cc708e2",
   "metadata": {},
   "source": [
    "## 2. Partition the Data into Training and Test Sets"
   ]
  },
  {
   "cell_type": "code",
   "execution_count": 86,
   "id": "5e39f8a9",
   "metadata": {},
   "outputs": [
    {
     "name": "stdout",
     "output_type": "stream",
     "text": [
      "Training set size: 200 samples\n",
      "Test set size: 103 samples\n"
     ]
    }
   ],
   "source": [
    "# Separate features and target\n",
    "X = heart_df.drop('target', axis=1)\n",
    "y = heart_df['target']\n",
    "\n",
    "# Split the data into training (200 samples) and test sets (103 samples)\n",
    "X_train, X_test, y_train, y_test = train_test_split(X, y, train_size=200, random_state=42)\n",
    "\n",
    "# Verify the sizes of the splits\n",
    "print(f\"Training set size: {X_train.shape[0]} samples\")\n",
    "print(f\"Test set size: {X_test.shape[0]} samples\")"
   ]
  },
  {
   "cell_type": "markdown",
   "id": "d17b1c9b",
   "metadata": {},
   "source": [
    "## 3. Fit Logistic Regression Model"
   ]
  },
  {
   "cell_type": "code",
   "execution_count": 87,
   "id": "0c4f9687",
   "metadata": {},
   "outputs": [
    {
     "name": "stdout",
     "output_type": "stream",
     "text": [
      "Logistic Regression Coefficients:\n",
      "     Feature  Coefficient  Abs_Coefficient\n",
      "11        ca    -1.375852         1.375852\n",
      "12      thal    -1.216365         1.216365\n",
      "1        sex    -1.045680         1.045680\n",
      "2         cp     0.911336         0.911336\n",
      "8      exang    -0.829785         0.829785\n",
      "10     slope     0.755659         0.755659\n",
      "6    restecg     0.523401         0.523401\n",
      "9    oldpeak    -0.482036         0.482036\n",
      "5        fbs     0.054680         0.054680\n",
      "0        age     0.023059         0.023059\n",
      "7    thalach     0.018807         0.018807\n",
      "3   trestbps    -0.008149         0.008149\n",
      "4       chol    -0.000674         0.000674\n"
     ]
    }
   ],
   "source": [
    "# Initialize logistic regression model\n",
    "logreg = LogisticRegression(random_state=42)\n",
    "\n",
    "# Fit the model on the training data\n",
    "logreg.fit(X_train, y_train)\n",
    "\n",
    "# Display model coefficients\n",
    "coefficients = pd.DataFrame({\n",
    "    'Feature': X_train.columns,\n",
    "    'Coefficient': logreg.coef_[0]\n",
    "})\n",
    "coefficients['Abs_Coefficient'] = abs(coefficients['Coefficient'])\n",
    "coefficients = coefficients.sort_values('Abs_Coefficient', ascending=False)\n",
    "\n",
    "print(\"Logistic Regression Coefficients:\")\n",
    "print(coefficients)"
   ]
  },
  {
   "cell_type": "markdown",
   "id": "4c0e4bf6",
   "metadata": {},
   "source": [
    "## 4. Identify Most Influential Features"
   ]
  },
  {
   "cell_type": "code",
   "execution_count": 88,
   "id": "d5588829",
   "metadata": {},
   "outputs": [
    {
     "name": "stdout",
     "output_type": "stream",
     "text": [
      "Top 3 Most Influential Features:\n",
      "   Feature  Coefficient  Abs_Coefficient\n",
      "11      ca    -1.375852         1.375852\n",
      "12    thal    -1.216365         1.216365\n",
      "1      sex    -1.045680         1.045680\n"
     ]
    }
   ],
   "source": [
    "# Identify the three most influential features based on the absolute value of coefficients\n",
    "top_features = coefficients.head(3)\n",
    "print(\"Top 3 Most Influential Features:\")\n",
    "print(top_features)"
   ]
  },
  {
   "cell_type": "markdown",
   "id": "bf105487",
   "metadata": {},
   "source": [
    "## The three most influential features in the model\n",
    "\n",
    "1. **ca**\n",
    "2. **thal**\n",
    "3. **sex**\n",
    "\n",
    "\n",
    "I rank the features in the decreasing order of the absolute values of coefficient. The reason I did it depending on the absolute value of coefficient is because coefficient represents the strength of the relationship between the predictor and the prediction. The positive coefficient indicates an increase in probability of heart disease while the negative coefficient indicates a decrease, and this is why absolute values come into play in picking the influential features because it helps to identify which variables have the strongest impact regardless of direction."
   ]
  },
  {
   "cell_type": "markdown",
   "id": "aebecff8",
   "metadata": {},
   "source": [
    "## 5. Evaluate Test Error"
   ]
  },
  {
   "cell_type": "code",
   "execution_count": 89,
   "id": "0dac5bdd",
   "metadata": {},
   "outputs": [
    {
     "name": "stdout",
     "output_type": "stream",
     "text": [
      "Test Accuracy: 0.8058\n",
      "Test Error: 0.1942\n",
      "\n",
      "Classification Report:\n",
      "              precision    recall  f1-score   support\n",
      "\n",
      "           0       0.75      0.79      0.77        42\n",
      "           1       0.85      0.82      0.83        61\n",
      "\n",
      "    accuracy                           0.81       103\n",
      "   macro avg       0.80      0.80      0.80       103\n",
      "weighted avg       0.81      0.81      0.81       103\n",
      "\n"
     ]
    }
   ],
   "source": [
    "# Make predictions on the test set\n",
    "y_pred = logreg.predict(X_test)\n",
    "\n",
    "# Calculate test accuracy\n",
    "test_accuracy = accuracy_score(y_test, y_pred)\n",
    "test_error = 1 - test_accuracy\n",
    "\n",
    "print(f\"Test Accuracy: {test_accuracy:.4f}\")\n",
    "print(f\"Test Error: {test_error:.4f}\")\n",
    "\n",
    "# Generate classification report for more detailed metrics\n",
    "print(\"\\nClassification Report:\")\n",
    "print(classification_report(y_test, y_pred))"
   ]
  },
  {
   "cell_type": "markdown",
   "id": "aba25a1f",
   "metadata": {},
   "source": [
    "## 6. Perform 5-Fold Cross-Validation"
   ]
  },
  {
   "cell_type": "code",
   "execution_count": 90,
   "id": "01f13a46",
   "metadata": {},
   "outputs": [
    {
     "name": "stdout",
     "output_type": "stream",
     "text": [
      "5-fold Cross-validation scores: [0.875 0.875 0.825 0.9   0.825]\n",
      "Cross-validation error: 0.1400\n",
      "Test Error: 0.1942\n",
      "Difference from the test error: 0.0542\n"
     ]
    }
   ],
   "source": [
    "# Perform 5-fold cross-validation on the training set\n",
    "cv_scores = cross_val_score(logreg, X_train, y_train, cv=5, scoring='accuracy')\n",
    "\n",
    "# Print cross-validation results\n",
    "print(f\"5-fold Cross-validation scores: {cv_scores}\")\n",
    "print(f\"Cross-validation error: {1-cv_scores.mean():.4f}\")\n",
    "print(f\"Test Error: {test_error:.4f}\")\n",
    "print(f\"Difference from the test error: {abs((1-cv_scores.mean()) - test_error):.4f}\")"
   ]
  },
  {
   "cell_type": "markdown",
   "id": "575d3634",
   "metadata": {},
   "source": [
    "## 7. Stepwise Forward Selection\n",
    "\n",
    "In this section, we'll implement the stepwise forward selection algorithm to find a sparse logistic regression solution that uses only a subset of the features."
   ]
  },
  {
   "cell_type": "markdown",
   "id": "82066036",
   "metadata": {},
   "source": [
    "### Part (a): Implement Stepwise Forward Selection Algorithm"
   ]
  },
  {
   "cell_type": "code",
   "execution_count": 91,
   "id": "3c8fc948",
   "metadata": {},
   "outputs": [],
   "source": [
    "def error_estimate(X, y, feature_subset, cv=5):\n",
    "    \"\"\"\n",
    "    Estimate the error of a logistic regression model using only the features in feature_subset.\n",
    "    \n",
    "    Parameters:\n",
    "    - X: Feature matrix\n",
    "    - y: Target vector\n",
    "    - feature_subset: List of features to use (column indices)\n",
    "    - cv: Number of cross-validation folds\n",
    "    \n",
    "    Returns:\n",
    "    - Estimated error using cross-validation\n",
    "    \"\"\"\n",
    "    # Handle the case when feature_subset is empty\n",
    "    if len(feature_subset) == 0:\n",
    "        # If no features selected yet, create a DataFrame with just the first feature\n",
    "        # This is a fallback that shouldn't happen in practice\n",
    "        X_selected = X.iloc[:, 0].to_frame()\n",
    "    else:\n",
    "        # Select only the specified features from the dataset\n",
    "        X_selected = X.iloc[:, feature_subset]\n",
    "    \n",
    "    # Create logistic regression model without regularization\n",
    "    model = LogisticRegression(penalty=None, max_iter=2000)\n",
    "    \n",
    "    # Estimate error using cross-validation\n",
    "    cv_scores = cross_val_score(model, X_selected, y, cv=cv, scoring='accuracy')\n",
    "    \n",
    "    # Return the error (1 - accuracy)\n",
    "    return 1 - cv_scores.mean()\n",
    "\n",
    "def stepwise_forward_selection(X, y, k=None, cv=5):\n",
    "    \"\"\"\n",
    "    Perform stepwise forward selection to select k features.\n",
    "    \n",
    "    Parameters:\n",
    "    - X: Feature matrix\n",
    "    - y: Target vector\n",
    "    - k: Number of features to select (default: all features)\n",
    "    - cv: Number of cross-validation folds\n",
    "    \n",
    "    Returns:\n",
    "    - List of selected feature indices\n",
    "    - List of error estimates for each step\n",
    "    \"\"\"\n",
    "    if k is None:\n",
    "        k = X.shape[1]  # Use all features if k is not specified\n",
    "    \n",
    "    # Initialize empty set of selected features\n",
    "    selected_features = []\n",
    "    error_history = []\n",
    "    feature_names = list(X.columns)\n",
    "    all_features = list(range(X.shape[1]))\n",
    "    \n",
    "    print(\"Starting stepwise forward selection...\")\n",
    "    for step in range(k):\n",
    "        best_error = float('inf')\n",
    "        best_feature = None\n",
    "        \n",
    "        # Evaluate each feature not already in the selected set\n",
    "        for feature in all_features:\n",
    "            if feature not in selected_features:\n",
    "                # Try adding this feature to the selected set\n",
    "                current_features = selected_features + [feature]\n",
    "                current_error = error_estimate(X, y, current_features, cv)\n",
    "                \n",
    "                # Update if this is the best feature found so far\n",
    "                if current_error < best_error:\n",
    "                    best_error = current_error\n",
    "                    best_feature = feature\n",
    "        \n",
    "        # Add the best feature to the selected set\n",
    "        selected_features.append(best_feature)\n",
    "        error_history.append(best_error)\n",
    "        \n",
    "        print(f\"Step {step+1}/{k}: Added feature '{feature_names[best_feature]}' (index {best_feature}), CV Error: {best_error:.4f}\")\n",
    "    \n",
    "    return selected_features, error_history"
   ]
  },
  {
   "cell_type": "markdown",
   "id": "f2d9ebba",
   "metadata": {},
   "source": [
    "### Part (b): Apply Stepwise Forward Selection to the Heart Disease Dataset"
   ]
  },
  {
   "cell_type": "code",
   "execution_count": 92,
   "id": "10ca3d44",
   "metadata": {},
   "outputs": [
    {
     "name": "stdout",
     "output_type": "stream",
     "text": [
      "Training set size: 200 samples with 13 features\n",
      "Test set size: 103 samples\n",
      "Starting stepwise forward selection...\n",
      "Step 1/13: Added feature 'cp' (index 2), CV Error: 0.2400\n",
      "Step 1/13: Added feature 'cp' (index 2), CV Error: 0.2400\n",
      "Step 2/13: Added feature 'age' (index 0), CV Error: 0.2400\n",
      "Step 2/13: Added feature 'age' (index 0), CV Error: 0.2400\n",
      "Step 3/13: Added feature 'thalach' (index 7), CV Error: 0.2400\n",
      "Step 3/13: Added feature 'thalach' (index 7), CV Error: 0.2400\n",
      "Step 4/13: Added feature 'ca' (index 11), CV Error: 0.2050\n",
      "Step 4/13: Added feature 'ca' (index 11), CV Error: 0.2050\n",
      "Step 5/13: Added feature 'exang' (index 8), CV Error: 0.1750\n",
      "Step 5/13: Added feature 'exang' (index 8), CV Error: 0.1750\n",
      "Step 6/13: Added feature 'thal' (index 12), CV Error: 0.1600\n",
      "Step 6/13: Added feature 'thal' (index 12), CV Error: 0.1600\n",
      "Step 7/13: Added feature 'chol' (index 4), CV Error: 0.1600\n",
      "Step 7/13: Added feature 'chol' (index 4), CV Error: 0.1600\n",
      "Step 8/13: Added feature 'fbs' (index 5), CV Error: 0.1650\n",
      "Step 8/13: Added feature 'fbs' (index 5), CV Error: 0.1650\n",
      "Step 9/13: Added feature 'slope' (index 10), CV Error: 0.1650\n",
      "Step 9/13: Added feature 'slope' (index 10), CV Error: 0.1650\n",
      "Step 10/13: Added feature 'trestbps' (index 3), CV Error: 0.1600\n",
      "Step 10/13: Added feature 'trestbps' (index 3), CV Error: 0.1600\n",
      "Step 11/13: Added feature 'sex' (index 1), CV Error: 0.1500\n",
      "Step 11/13: Added feature 'sex' (index 1), CV Error: 0.1500\n",
      "Step 12/13: Added feature 'restecg' (index 6), CV Error: 0.1650\n",
      "Step 13/13: Added feature 'oldpeak' (index 9), CV Error: 0.1550\n",
      "k=1: Test error = 0.2427\n",
      "k=2: Test error = 0.2816\n",
      "k=3: Test error = 0.2524\n",
      "k=4: Test error = 0.2621\n",
      "k=5: Test error = 0.2427\n",
      "k=6: Test error = 0.2233\n",
      "k=7: Test error = 0.2233\n",
      "Step 12/13: Added feature 'restecg' (index 6), CV Error: 0.1650\n",
      "Step 13/13: Added feature 'oldpeak' (index 9), CV Error: 0.1550\n",
      "k=1: Test error = 0.2427\n",
      "k=2: Test error = 0.2816\n",
      "k=3: Test error = 0.2524\n",
      "k=4: Test error = 0.2621\n",
      "k=5: Test error = 0.2427\n",
      "k=6: Test error = 0.2233\n",
      "k=7: Test error = 0.2233\n",
      "k=8: Test error = 0.2330\n",
      "k=9: Test error = 0.2136\n",
      "k=10: Test error = 0.2136\n",
      "k=11: Test error = 0.1845\n",
      "k=12: Test error = 0.1942\n",
      "k=13: Test error = 0.1845\n",
      "k=8: Test error = 0.2330\n",
      "k=9: Test error = 0.2136\n",
      "k=10: Test error = 0.2136\n",
      "k=11: Test error = 0.1845\n",
      "k=12: Test error = 0.1942\n",
      "k=13: Test error = 0.1845\n"
     ]
    }
   ],
   "source": [
    "# We already have our data split from earlier in the notebook\n",
    "print(f\"Training set size: {X_train.shape[0]} samples with {X_train.shape[1]} features\")\n",
    "print(f\"Test set size: {X_test.shape[0]} samples\")\n",
    "\n",
    "# Run stepwise forward selection for all values of k\n",
    "max_features = X_train.shape[1]  # Total number of features\n",
    "selected_features, cv_errors = stepwise_forward_selection(X_train, y_train, k=max_features)\n",
    "\n",
    "# Calculate test error for each value of k\n",
    "test_errors = []\n",
    "\n",
    "for i in range(1, max_features + 1):\n",
    "    # Select the first i features from our ordered list\n",
    "    features = selected_features[:i]\n",
    "    \n",
    "    # Train model with selected features\n",
    "    X_train_selected = X_train.iloc[:, features]\n",
    "    X_test_selected = X_test.iloc[:, features]\n",
    "    \n",
    "    model = LogisticRegression(penalty=None, max_iter=2000)\n",
    "    model.fit(X_train_selected, y_train)\n",
    "    \n",
    "    # Calculate test error\n",
    "    y_pred = model.predict(X_test_selected)\n",
    "    test_acc = accuracy_score(y_test, y_pred)\n",
    "    test_errors.append(1 - test_acc)\n",
    "    \n",
    "    print(f\"k={i}: Test error = {1-test_acc:.4f}\")"
   ]
  },
  {
   "cell_type": "code",
   "execution_count": 93,
   "id": "a25646ef",
   "metadata": {},
   "outputs": [
    {
     "data": {
      "image/png": "[encoded data removed]",
      "text/plain": [
       "<Figure size 1000x600 with 1 Axes>"
      ]
     },
     "metadata": {},
     "output_type": "display_data"
    },
    {
     "name": "stdout",
     "output_type": "stream",
     "text": [
      "\n",
      "Features selected in order:\n"
     ]
    },
    {
     "data": {
      "text/html": [
       "<div>\n",
       "<style scoped>\n",
       "    .dataframe tbody tr th:only-of-type {\n",
       "        vertical-align: middle;\n",
       "    }\n",
       "\n",
       "    .dataframe tbody tr th {\n",
       "        vertical-align: top;\n",
       "    }\n",
       "\n",
       "    .dataframe thead th {\n",
       "        text-align: right;\n",
       "    }\n",
       "</style>\n",
       "<table border=\"1\" class=\"dataframe\">\n",
       "  <thead>\n",
       "    <tr style=\"text-align: right;\">\n",
       "      <th></th>\n",
       "      <th>Order</th>\n",
       "      <th>Feature</th>\n",
       "      <th>CV Error</th>\n",
       "      <th>Test Error</th>\n",
       "    </tr>\n",
       "  </thead>\n",
       "  <tbody>\n",
       "    <tr>\n",
       "      <th>0</th>\n",
       "      <td>1</td>\n",
       "      <td>cp</td>\n",
       "      <td>0.240</td>\n",
       "      <td>0.242718</td>\n",
       "    </tr>\n",
       "    <tr>\n",
       "      <th>1</th>\n",
       "      <td>2</td>\n",
       "      <td>age</td>\n",
       "      <td>0.240</td>\n",
       "      <td>0.281553</td>\n",
       "    </tr>\n",
       "    <tr>\n",
       "      <th>2</th>\n",
       "      <td>3</td>\n",
       "      <td>thalach</td>\n",
       "      <td>0.240</td>\n",
       "      <td>0.252427</td>\n",
       "    </tr>\n",
       "    <tr>\n",
       "      <th>3</th>\n",
       "      <td>4</td>\n",
       "      <td>ca</td>\n",
       "      <td>0.205</td>\n",
       "      <td>0.262136</td>\n",
       "    </tr>\n",
       "    <tr>\n",
       "      <th>4</th>\n",
       "      <td>5</td>\n",
       "      <td>exang</td>\n",
       "      <td>0.175</td>\n",
       "      <td>0.242718</td>\n",
       "    </tr>\n",
       "    <tr>\n",
       "      <th>5</th>\n",
       "      <td>6</td>\n",
       "      <td>thal</td>\n",
       "      <td>0.160</td>\n",
       "      <td>0.223301</td>\n",
       "    </tr>\n",
       "    <tr>\n",
       "      <th>6</th>\n",
       "      <td>7</td>\n",
       "      <td>chol</td>\n",
       "      <td>0.160</td>\n",
       "      <td>0.223301</td>\n",
       "    </tr>\n",
       "    <tr>\n",
       "      <th>7</th>\n",
       "      <td>8</td>\n",
       "      <td>fbs</td>\n",
       "      <td>0.165</td>\n",
       "      <td>0.233010</td>\n",
       "    </tr>\n",
       "    <tr>\n",
       "      <th>8</th>\n",
       "      <td>9</td>\n",
       "      <td>slope</td>\n",
       "      <td>0.165</td>\n",
       "      <td>0.213592</td>\n",
       "    </tr>\n",
       "    <tr>\n",
       "      <th>9</th>\n",
       "      <td>10</td>\n",
       "      <td>trestbps</td>\n",
       "      <td>0.160</td>\n",
       "      <td>0.213592</td>\n",
       "    </tr>\n",
       "    <tr>\n",
       "      <th>10</th>\n",
       "      <td>11</td>\n",
       "      <td>sex</td>\n",
       "      <td>0.150</td>\n",
       "      <td>0.184466</td>\n",
       "    </tr>\n",
       "    <tr>\n",
       "      <th>11</th>\n",
       "      <td>12</td>\n",
       "      <td>restecg</td>\n",
       "      <td>0.165</td>\n",
       "      <td>0.194175</td>\n",
       "    </tr>\n",
       "    <tr>\n",
       "      <th>12</th>\n",
       "      <td>13</td>\n",
       "      <td>oldpeak</td>\n",
       "      <td>0.155</td>\n",
       "      <td>0.184466</td>\n",
       "    </tr>\n",
       "  </tbody>\n",
       "</table>\n",
       "</div>"
      ],
      "text/plain": [
       "    Order   Feature  CV Error  Test Error\n",
       "0       1        cp     0.240    0.242718\n",
       "1       2       age     0.240    0.281553\n",
       "2       3   thalach     0.240    0.252427\n",
       "3       4        ca     0.205    0.262136\n",
       "4       5     exang     0.175    0.242718\n",
       "5       6      thal     0.160    0.223301\n",
       "6       7      chol     0.160    0.223301\n",
       "7       8       fbs     0.165    0.233010\n",
       "8       9     slope     0.165    0.213592\n",
       "9      10  trestbps     0.160    0.213592\n",
       "10     11       sex     0.150    0.184466\n",
       "11     12   restecg     0.165    0.194175\n",
       "12     13   oldpeak     0.155    0.184466"
      ]
     },
     "metadata": {},
     "output_type": "display_data"
    }
   ],
   "source": [
    "# Plot CV error and test error for different values of k\n",
    "plt.figure(figsize=(10, 6))\n",
    "plt.plot(range(1, max_features + 1), cv_errors, marker='o', linestyle='-', label='CV Error')\n",
    "plt.plot(range(1, max_features + 1), test_errors, marker='s', linestyle='-', label='Test Error')\n",
    "plt.xlabel('Number of Features (k)')\n",
    "plt.ylabel('Error')\n",
    "plt.title('CV and Test Error vs. Number of Features')\n",
    "plt.xticks(range(1, max_features + 1))\n",
    "plt.grid(True, alpha=0.3)\n",
    "plt.legend()\n",
    "plt.show()\n",
    "\n",
    "# Create a table showing the selected features in order\n",
    "feature_order = pd.DataFrame({\n",
    "    'Order': range(1, max_features + 1),\n",
    "    'Feature': [X_train.columns[i] for i in selected_features],\n",
    "    'CV Error': cv_errors,\n",
    "    'Test Error': test_errors\n",
    "})\n",
    "print(\"\\nFeatures selected in order:\")\n",
    "display(feature_order)"
   ]
  },
  {
   "cell_type": "markdown",
   "id": "a2fe7935",
   "metadata": {},
   "source": [
    "### Part (c): Decision Boundary for k=2\n",
    "\n",
    "For k=2, the two features selected by our stepwise forward selection algorithm are 'cp' (chest pain) and 'age'. Let's visualize the decision boundary for this simplified model using the provided plotting function."
   ]
  },
  {
   "cell_type": "code",
   "execution_count": 94,
   "id": "c398c168",
   "metadata": {},
   "outputs": [
    {
     "name": "stdout",
     "output_type": "stream",
     "text": [
      "The two features selected for k=2 are: cp and age\n",
      "Test accuracy with just cp and age: 0.7184\n",
      "Test error with just cp and age: 0.2816\n"
     ]
    },
    {
     "data": {
      "image/png": "[encoded data removed]",
      "text/plain": [
       "<Figure size 800x600 with 1 Axes>"
      ]
     },
     "metadata": {},
     "output_type": "display_data"
    }
   ],
   "source": [
    "def plot_decision_boundary(clf, X, y, ax=None, \n",
    "                           grid_step=0.02, cmap=\"coolwarm\", alpha=0.3):\n",
    "    \"\"\"\n",
    "    Plot the decision boundary of a binary classifier `clf` over 2D data (X[:,0], X[:,1]).\n",
    "    \n",
    "    Parameters\n",
    "    ----------\n",
    "    clf : any object with a .predict() method\n",
    "    X   : numpy array of shape (n_samples, 2)\n",
    "    y   : array-like of shape (n_samples,)\n",
    "    ax  : matplotlib Axes (optional). If None, a new figure+axes is created.\n",
    "    grid_step : float\n",
    "        spacing for the meshgrid.\n",
    "    cmap : str or Colormap\n",
    "        colormap for boundary fill and scatter.\n",
    "    alpha : float\n",
    "        alpha blending for the decision‐region shading.\n",
    "        \n",
    "    Returns\n",
    "    -------\n",
    "    ax : the matplotlib Axes containing the plot.\n",
    "    \"\"\"\n",
    "    if ax is None:\n",
    "        fig, ax = plt.subplots(figsize=(6,6))\n",
    "    \n",
    "    # 1. define bounds of the plot\n",
    "    x0_min, x0_max = X[:,0].min() - 1, X[:,0].max() + 1\n",
    "    x1_min, x1_max = X[:,1].min() - 1, X[:,1].max() + 1\n",
    "    \n",
    "    # 2. create a meshgrid over the feature space\n",
    "    xx0, xx1 = np.meshgrid(\n",
    "        np.arange(x0_min, x0_max, grid_step),\n",
    "        np.arange(x1_min, x1_max, grid_step)\n",
    "    )\n",
    "    \n",
    "    # 3. predict on every point in the grid\n",
    "    grid_points = np.c_[xx0.ravel(), xx1.ravel()]\n",
    "    Z = clf.predict(grid_points)\n",
    "    Z = Z.reshape(xx0.shape)\n",
    "    \n",
    "    # 4. contour‐plot the decision boundary\n",
    "    ax.contourf(xx0, xx1, Z, alpha=alpha, cmap=cmap)\n",
    "    \n",
    "    # 5. overlay the training points\n",
    "    scatter = ax.scatter(\n",
    "        X[:,0], X[:,1], \n",
    "        c=y, edgecolor='k', cmap=cmap\n",
    "    )\n",
    "    \n",
    "    ax.set_xlim(xx0.min(), xx0.max())\n",
    "    ax.set_ylim(xx1.min(), xx1.max())\n",
    "    ax.set_xlabel(\"Feature 0\")\n",
    "    ax.set_ylabel(\"Feature 1\")\n",
    "    ax.set_title(\"Decision Boundary\")\n",
    "    return ax\n",
    "\n",
    "# Get the first two selected features\n",
    "top_two_features = selected_features[:2]  # [2, 0] corresponding to 'cp' and 'age'\n",
    "feature1_name = X_train.columns[top_two_features[0]]\n",
    "feature2_name = X_train.columns[top_two_features[1]]\n",
    "\n",
    "print(f\"The two features selected for k=2 are: {feature1_name} and {feature2_name}\")\n",
    "\n",
    "# Train logistic regression model using only these two features\n",
    "X_train_2d = X_train.iloc[:, top_two_features]\n",
    "X_test_2d = X_test.iloc[:, top_two_features]\n",
    "\n",
    "model_2d = LogisticRegression(penalty=None, max_iter=2000)\n",
    "model_2d.fit(X_train_2d, y_train)\n",
    "\n",
    "# Calculate test error for k=2\n",
    "y_pred_2d = model_2d.predict(X_test_2d)\n",
    "test_acc_2d = accuracy_score(y_test, y_pred_2d)\n",
    "print(f\"Test accuracy with just {feature1_name} and {feature2_name}: {test_acc_2d:.4f}\")\n",
    "print(f\"Test error with just {feature1_name} and {feature2_name}: {1-test_acc_2d:.4f}\")\n",
    "\n",
    "# Combine train and test data for visualization\n",
    "X_combined = pd.concat([X_train_2d, X_test_2d])\n",
    "y_combined = pd.concat([y_train, y_test])\n",
    "\n",
    "# Convert pandas DataFrame to NumPy array for the plotting function\n",
    "X_combined_np = X_combined.values\n",
    "y_combined_np = y_combined.values\n",
    "\n",
    "# Create a figure with custom labels\n",
    "fig, ax = plt.subplots(figsize=(8, 6))\n",
    "plot_decision_boundary(model_2d, X_combined_np, y_combined_np, ax=ax)\n",
    "\n",
    "# Update labels with actual feature names\n",
    "ax.set_xlabel(feature1_name)\n",
    "ax.set_ylabel(feature2_name)\n",
    "ax.set_title(f\"Decision Boundary for Heart Disease Prediction\\nUsing {feature1_name} and {feature2_name}\")\n",
    "\n",
    "# Add a legend\n",
    "handles, labels = ax.get_legend_handles_labels()\n",
    "if not handles:  # If no legend exists yet\n",
    "    from matplotlib.lines import Line2D\n",
    "    legend_elements = [\n",
    "        Line2D([0], [0], marker='o', color='w', markerfacecolor='blue', markersize=10, label='No Heart Disease'),\n",
    "        Line2D([0], [0], marker='o', color='w', markerfacecolor='red', markersize=10, label='Heart Disease')\n",
    "    ]\n",
    "    ax.legend(handles=legend_elements, loc='best')\n",
    "\n",
    "plt.tight_layout()\n",
    "plt.show()"
   ]
  },
  {
   "cell_type": "markdown",
   "id": "4af33551",
   "metadata": {},
   "source": [
    "### Interpretation of Results\n",
    "\n",
    "1. **Feature Selection**: Our stepwise forward selection algorithm identified 'cp' (chest pain type) and 'age' as the two most predictive features for heart disease.\n",
    "\n",
    "2. **Decision Boundary**: The plot above shows how these two features alone can be used to classify patients. The colored regions represent areas predicted as having heart disease (red) or not having heart disease (blue).\n",
    "\n",
    "3. **Model Performance**: Using just these two features, our model achieves a test accuracy of approximately 72%, which is lower than using all features but still significantly better than random guessing.\n",
    "\n",
    "4. **Clinical Relevance**: The decision boundary shows that certain combinations of chest pain type and age are strong indicators of heart disease risk. This visualization could help clinicians understand which patients might be at higher risk based on just these two easily measured features."
   ]
  }
 ],
 "metadata": {
  "kernelspec": {
   "display_name": "condaEnv",
   "language": "python",
   "name": "condaenv"
  },
  "language_info": {
   "codemirror_mode": {
    "name": "ipython",
    "version": 3
   },
   "file_extension": ".py",
   "mimetype": "text/x-python",
   "name": "python",
   "nbconvert_exporter": "python",
   "pygments_lexer": "ipython3",
   "version": "3.9.21"
  }
 },
 "nbformat": 4,
 "nbformat_minor": 5
}
